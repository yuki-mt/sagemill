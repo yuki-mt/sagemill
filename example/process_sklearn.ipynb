{
 "cells": [
  {
   "cell_type": "markdown",
   "metadata": {},
   "source": [
    "# Run SageMaker Processing Job\n",
    "\n",
    "This code shows how to run code written in notebook as SageMaker Processing Job by using sagemill <br>\n",
    "In this example, we use `sagemaker.sklearn.processing.SKLearnProcessor` as Processor\n",
    "\n",
    "#### assumptions\n",
    "- this notebook is from \"conda_python3\" in SageMaker notebook instance"
   ]
  },
  {
   "cell_type": "code",
   "execution_count": null,
   "metadata": {
    "scrolled": true
   },
   "outputs": [],
   "source": [
    "!conda install -y scikit-learn==0.20.0 pandas"
   ]
  },
  {
   "cell_type": "markdown",
   "metadata": {},
   "source": [
    "## Parameters\n",
    "The cell with \"parameters\" tag is used as arguments of python script of Processing job. <br>\n",
    "So these can be overwritten by `arguments` in `processor.run`\n",
    "\n",
    "#### How to add tags\n",
    "1. Click 'View' tab on the notebook\n",
    "2. Click 'Cell Toolbar'\n",
    "3. Click 'Tags'\n",
    "4. Input tag name to the cell\n",
    "5. Click \"Add tag\""
   ]
  },
  {
   "cell_type": "code",
   "execution_count": null,
   "metadata": {
    "tags": [
     "parameters"
    ]
   },
   "outputs": [],
   "source": [
    "base_path = '.'"
   ]
  },
  {
   "cell_type": "code",
   "execution_count": null,
   "metadata": {},
   "outputs": [],
   "source": [
    "import os\n",
    "import pandas as pd\n",
    "\n",
    "input_path = lambda b: os.path.join(b, 'dataset/dummmy.csv')\n",
    "output_path = lambda b: os.path.join(b, 'output/out.csv')"
   ]
  },
  {
   "cell_type": "markdown",
   "metadata": {},
   "source": [
    "## Create dataset to be used by the process\n",
    "The cell with \"sagemaker\" tag is ignored when generating python script from the notebook by `Converter.generate_pyfile`"
   ]
  },
  {
   "cell_type": "code",
   "execution_count": null,
   "metadata": {
    "tags": [
     "sagemaker"
    ]
   },
   "outputs": [],
   "source": [
    "os.makedirs(os.path.dirname(input_path(base_path)), exist_ok=True)\n",
    "with open(input_path(base_path), 'w') as f:\n",
    "    f.write('col1,col2,col3\\n1,2,3\\n4,5,6')"
   ]
  },
  {
   "cell_type": "markdown",
   "metadata": {},
   "source": [
    "## code to run in the job\n",
    "You can write anything here"
   ]
  },
  {
   "cell_type": "code",
   "execution_count": null,
   "metadata": {},
   "outputs": [],
   "source": [
    "df = pd.read_csv(input_path(base_path))\n",
    "\n",
    "# should be heavy process here\n",
    "df['new_col'] = 1\n",
    "os.makedirs(os.path.dirname(output_path(base_path)), exist_ok=True)\n",
    "df.to_csv(output_path(base_path))\n",
    "print('Finished running processing job')"
   ]
  },
  {
   "cell_type": "markdown",
   "metadata": {},
   "source": [
    "## Run SageMaker Processing Job\n",
    "\n",
    "- `Converter.generate_pyfile` generates `entrypoint.py` from this notebook.\n",
    "- Set `entrypoint.py` as `code` of `processor.run`\n",
    "- `params` corresponds with the cell tagged \"parameters\" <br>\n",
    "  In the job, the parameters are overwritten to the values of `params`\n",
    "- **save this notebook file before runnning the following cell**"
   ]
  },
  {
   "cell_type": "code",
   "execution_count": null,
   "metadata": {
    "tags": [
     "sagemaker"
    ]
   },
   "outputs": [],
   "source": [
    "from sagemaker.sklearn.processing import SKLearnProcessor\n",
    "from sagemaker import Session\n",
    "from sagemaker.processing import ProcessingInput, ProcessingOutput\n",
    "from sagemill import Converter\n",
    "\n",
    "params = {'base_path': '/opt/ml/processing'}\n",
    "role = sagemaker.get_execution_role()\n",
    "bucket_name = Session().default_bucket()\n",
    "dest_path = f's3://{bucket_name}/process/output'\n",
    "script_name = 'entrypoint.py'\n",
    "processor = SKLearnProcessor(framework_version='0.20.0',\n",
    "                             role=role,\n",
    "                             base_job_name='process-job-test',\n",
    "                             instance_count=1,\n",
    "                             instance_type='ml.c5.xlarge')\n",
    "\n",
    "Converter.generate_pyfile('process_sklearn.ipynb', script_name)\n",
    "\n",
    "processor.run(\n",
    "    code=script_name,\n",
    "    arguments=Converter.process_args(params),\n",
    "    inputs=[\n",
    "        ProcessingInput(source=input_path(base_path), destination=os.path.dirname(input_path(params['base_path'])))\n",
    "    ],\n",
    "    outputs=[\n",
    "        ProcessingOutput(source=os.path.dirname(output_path(params['base_path'])), destination=dest_path)\n",
    "    ]\n",
    ")"
   ]
  }
 ],
 "metadata": {
  "celltoolbar": "Tags",
  "kernelspec": {
   "display_name": "Python 3",
   "language": "python",
   "name": "python3"
  },
  "language_info": {
   "codemirror_mode": {
    "name": "ipython",
    "version": 3
   },
   "file_extension": ".py",
   "mimetype": "text/x-python",
   "name": "python",
   "nbconvert_exporter": "python",
   "pygments_lexer": "ipython3",
   "version": "3.7.5"
  }
 },
 "nbformat": 4,
 "nbformat_minor": 4
}
