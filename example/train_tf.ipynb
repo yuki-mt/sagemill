{
 "cells": [
  {
   "cell_type": "markdown",
   "metadata": {},
   "source": [
    "# Run Tensorflow code as SageMaker Training Job\n",
    "\n",
    "This code shows how to run code written in notebook as SageMaker Training Job by using sagemill <br>\n",
    "In this example, we use `sagemaker.tensorflow.Tensorflow` as Estimator\n",
    "\n",
    "#### assumptions\n",
    "- this notebook is from \"conda_python3\" in SageMaker notebook instance"
   ]
  },
  {
   "cell_type": "code",
   "execution_count": null,
   "metadata": {
    "scrolled": true
   },
   "outputs": [],
   "source": [
    "!conda install -y tensorflow==2.1.0 pandas scikit-learn"
   ]
  },
  {
   "cell_type": "markdown",
   "metadata": {},
   "source": [
    "## Parameters\n",
    "The cell with \"parameters\" tag is used as hyperparameters in SageMaker Training Job. <br>\n",
    "So these can be overwritten by `hyperparameters` in `sagemaker.tensorflow.Tensorflow`\n",
    "\n",
    "#### How to add tags\n",
    "1. Click 'View' tab on the notebook\n",
    "2. Click 'Cell Toolbar'\n",
    "3. Click 'Tags'\n",
    "4. Input tag name to the cell\n",
    "5. Click \"Add tag\""
   ]
  },
  {
   "cell_type": "code",
   "execution_count": null,
   "metadata": {
    "tags": [
     "parameters"
    ]
   },
   "outputs": [],
   "source": [
    "epochs = 1\n",
    "batch_size = 8\n",
    "data_dir = './dataset'\n",
    "local_model_dir = './model'\n",
    "# for iris\n",
    "num_class = 3\n",
    "dim_data = 4"
   ]
  },
  {
   "cell_type": "code",
   "execution_count": null,
   "metadata": {},
   "outputs": [],
   "source": [
    "import os\n",
    "import tensorflow as tf\n",
    "import numpy as np\n",
    "from tensorflow.keras import Model\n",
    "\n",
    "x_filename = 'x.npy'\n",
    "y_filename = 'y.npy'"
   ]
  },
  {
   "cell_type": "markdown",
   "metadata": {},
   "source": [
    "## Download dataset & upload it to S3\n",
    "The cell with \"sagemaker\" tag is ignored when generating python script from the notebook by `Converter.generate_pyfile`"
   ]
  },
  {
   "cell_type": "code",
   "execution_count": null,
   "metadata": {
    "tags": [
     "sagemaker"
    ]
   },
   "outputs": [],
   "source": [
    "import sagemaker\n",
    "from sklearn import datasets\n",
    "from sklearn.model_selection import train_test_split\n",
    "import shutil\n",
    "\n",
    "iris = datasets.load_iris()\n",
    "\n",
    "# In local, save only sample for debugging\n",
    "os.makedirs(data_dir, exist_ok=True)\n",
    "x_train, _, y_train, _ = train_test_split(iris.data, iris.target, train_size=100)\n",
    "np.save(os.path.join(data_dir, x_filename), x_train)\n",
    "np.save(os.path.join(data_dir, y_filename), y_train)\n",
    "\n",
    "# In S3, upload all data for full training\n",
    "tmp_dir = 'tmp_dataset'\n",
    "os.makedirs(tmp_dir, exist_ok=True)\n",
    "np.save(os.path.join(tmp_dir, x_filename), iris.data)\n",
    "np.save(os.path.join(tmp_dir, y_filename), iris.target)\n",
    "s3_input = sagemaker.Session().upload_data(path=tmp_dir, key_prefix='datasets/sagemill_tf')\n",
    "shutil.rmtree(tmp_dir)"
   ]
  },
  {
   "cell_type": "markdown",
   "metadata": {},
   "source": [
    "## Code to train your model\n",
    "You can write any code here to train your Tensorflow model"
   ]
  },
  {
   "cell_type": "code",
   "execution_count": null,
   "metadata": {},
   "outputs": [],
   "source": [
    "# define Tensorflow model\n",
    "def create_model(dim_data: int, num_class: int) -> Model:\n",
    "    model = tf.keras.models.Sequential([\n",
    "        tf.keras.layers.Dense(128, activation='relu', input_shape=(dim_data,)),\n",
    "        tf.keras.layers.Dropout(0.1),\n",
    "        tf.keras.layers.Dense(num_class, activation='softmax')\n",
    "    ])\n",
    "  \n",
    "    model.compile(optimizer='adam', \n",
    "                  loss='sparse_categorical_crossentropy',\n",
    "                  metrics=['accuracy']) \n",
    "    return model\n",
    "\n",
    "model = create_model(dim_data, num_class)"
   ]
  },
  {
   "cell_type": "code",
   "execution_count": null,
   "metadata": {},
   "outputs": [],
   "source": [
    "# training code\n",
    "x_train = np.load(os.path.join(data_dir, x_filename))\n",
    "y_train = np.load(os.path.join(data_dir, y_filename))\n",
    "\n",
    "model.fit(x_train, y_train)\n",
    "os.makedirs(local_model_dir, exist_ok=True)\n",
    "model.save(os.path.join(local_model_dir, 'my_model.h5'))"
   ]
  },
  {
   "cell_type": "markdown",
   "metadata": {},
   "source": [
    "## Run SageMaker Training Job\n",
    "\n",
    "- `Converter.generate_pyfile` generates `entrypoint.py` from this notebook.\n",
    "- Set `entrypoint.py` as `entry_point` of `samaker.tensorflow.Tensorflow`\n",
    "- `hyper_params` corresponds with the cell tagged \"parameters\" <br>\n",
    "  In the training job, the parameters are overwritten to the values of `hyper_params`\n",
    "- **save this notebook file before runnning the following cell**"
   ]
  },
  {
   "cell_type": "code",
   "execution_count": null,
   "metadata": {
    "tags": [
     "sagemaker"
    ]
   },
   "outputs": [],
   "source": [
    "from sagemill import Converter\n",
    "from sagemaker.tensorflow import TensorFlow\n",
    "\n",
    "role = sagemaker.get_execution_role()\n",
    "max_run_time = 24 * 60 * 60 * 1  # 1 day\n",
    "entry_point = 'entrypoint.py'\n",
    "hyper_params = {\n",
    "    'batch_size': 64,\n",
    "    'epochs': 10,\n",
    "    'local_model_dir': '/opt/ml/model',\n",
    "    'data_dir': '/opt/ml/input/data/training',\n",
    "}\n",
    "\n",
    "# Convert this notebook to Python file\n",
    "Converter.generate_pyfile('./train_tf.ipynb', entry_point)\n",
    "\n",
    "\n",
    "estimator = TensorFlow(\n",
    "    entry_point=entry_point,\n",
    "    role=role,\n",
    "    base_job_name='sagemill-tf',\n",
    "    train_instance_count=1,\n",
    "    framework_version=\"2.1.0\",\n",
    "    py_version=\"py3\",\n",
    "    train_instance_type='ml.c5.xlarge',\n",
    "    train_max_run=max_run_time,\n",
    "    script_mode=True,\n",
    "    hyperparameters=hyper_params)\n",
    "\n",
    "estimator.fit(inputs=s3_input)"
   ]
  }
 ],
 "metadata": {
  "celltoolbar": "Tags",
  "kernelspec": {
   "display_name": "Python 3",
   "language": "python",
   "name": "python3"
  },
  "language_info": {
   "codemirror_mode": {
    "name": "ipython",
    "version": 3
   },
   "file_extension": ".py",
   "mimetype": "text/x-python",
   "name": "python",
   "nbconvert_exporter": "python",
   "pygments_lexer": "ipython3",
   "version": "3.7.5"
  }
 },
 "nbformat": 4,
 "nbformat_minor": 4
}
